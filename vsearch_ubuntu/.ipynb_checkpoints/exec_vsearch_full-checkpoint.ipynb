{
 "cells": [
  {
   "cell_type": "markdown",
   "metadata": {},
   "source": [
    "              "
   ]
  },
  {
   "cell_type": "markdown",
   "metadata": {},
   "source": [
    "59行目変更:  \n",
    "header = { 'gg':'gg\\_' ,'silva':'silva\\_' ,'rdp':'rdp_' }  \n",
    "→header = { 'gg':'gg','silva':'silva','rdp':'rdp' }に変更し他ファイルと統一"
   ]
  },
  {
   "cell_type": "code",
   "execution_count": 18,
   "metadata": {},
   "outputs": [],
   "source": [
    "import os, re, glob, shutil\n",
    "from Bio import SeqIO"
   ]
  },
  {
   "cell_type": "code",
   "execution_count": 19,
   "metadata": {},
   "outputs": [],
   "source": [
    "def append(input_fn,output_handle,fmt='fastq',sep='.',sample_name=None):\n",
    "    ## Taken from MICCA append function ##\n",
    "    def append_sample_name(records,sample_name):\n",
    "        for record in records:\n",
    "            record.id = '{0};sample={1}'.format(record.id,sample_name)\n",
    "            try:\n",
    "                description = record.description.split(None,1)[1]\n",
    "            except IndexError:\n",
    "                description = ''\n",
    "            record.description = description\n",
    "            yield record\n",
    "    if sample_name is None:\n",
    "        sample_name = os.path.basename(input_fn).split(sep)[0]\n",
    "        sample_name = sample_name.replace('_merged','')\n",
    "    sample_name_nows = re.sub('\\s+','_',sample_name)\n",
    "    records_in = SeqIO.parse(input_fn,fmt)\n",
    "    records_out = append_sample_name(records_in,sample_name_nows)\n",
    "    SeqIO.write(records_out,output_handle,fmt)"
   ]
  },
  {
   "cell_type": "code",
   "execution_count": 20,
   "metadata": {},
   "outputs": [],
   "source": [
    "#### configurations ####\n",
    "is_pairend = 'yes'\n",
    "is_filecheck = 'yes'\n",
    "is_fastqc = 'yes'\n",
    "is_trim = 'yes'\n",
    "is_append = 'yes'\n",
    "is_qualfilter = 'yes'\n",
    "is_unique = 'yes'\n",
    "is_sort = 'yes'\n",
    "is_chimeracheck = 'yes'\n",
    "is_uchime_ref = 'yes'\n",
    "is_cluster = 'yes'\n",
    "is_taxonomy = 'yes'\n",
    "is_denovopicking = 'yes'\n",
    "is_mapping = 'yes'\n",
    "is_deletefiles = 'yes'"
   ]
  },
  {
   "cell_type": "code",
   "execution_count": 49,
   "metadata": {},
   "outputs": [],
   "source": [
    "## softwares ##\n",
    "vsearch = '/home/petadimensionlab/miniconda3/pkgs/vsearch-2.7.0-1/bin/vsearch'\n",
    "fastqc = '/home/petadimensionlab/miniconda3/pkgs/fastqc-0.11.7-pl5.22.0_1/bin/fastqc'\n",
    "Trimmomatic = '/home/petadimensionlab/miniconda3/pkgs/trimmomatic-0.36-5/share/trimmomatic-0.36-5/trimmomatic.jar'\n",
    "mothur = '/home/petadimensionlab/miniconda3/bin/mothur'\n",
    "## input / output file ##\n",
    "input_dir = '/home/petadimensionlab/Desktop/PRJNA000001'\n",
    "output_dir = '/home/petadimensionlab/Desktop/PRJNA000001'\n",
    "config_file_name = 'config.csv'"
   ]
  },
  {
   "cell_type": "code",
   "execution_count": 50,
   "metadata": {},
   "outputs": [],
   "source": [
    "## reference file ##\n",
    "chimera_ref = '/home/petadimensionlab/ws/ref/chimeras/rRNA16S.gold.NAST_ALIGNED.fasta'\n",
    "# GreenGenes #\n",
    "gg97fasta = '/home/petadimensionlab/ws/ref/gg_13_5_otus/rep_set/97_otus.fasta'\n",
    "gg97tax = '/home/petadimensionlab/ws/ref/gg_13_5_otus/taxonomy/97_otu_taxonomy.txt'\n",
    "# Silva #\n",
    "silva_fasta = '/home/petadimensionlab/ws/ref/silva_128/rep_set/97_otus_16S.fasta'\n",
    "silva_tax = '/home/petadimensionlab/ws/ref/silva_128/taxonomy/consensus_taxonomy_all_levels.txt'\n",
    "# RDP #\n",
    "rdp_fasta = '/home/petadimensionlab/ws/ref/trainset16_022016.rdp/trainset16_022016.rdp.fasta'\n",
    "rdp_tax = '/home/petadimensionlab/ws/ref/trainset16_022016.rdp/trainset16_022016.rdp.tax'\n",
    "\n",
    "fastalist = { 'gg':gg97fasta,'silva':silva_fasta,'rdp':rdp_fasta }\n",
    "taxlist = { 'gg':gg97tax,'silva':silva_tax,'rdp':rdp_tax }\n",
    "header = { 'gg':'gg','silva':'silva','rdp':'rdp' }\n",
    "\n",
    "reflist = ['gg','silva','rdp']\n",
    "ref = reflist[0]"
   ]
  },
  {
   "cell_type": "code",
   "execution_count": 51,
   "metadata": {},
   "outputs": [],
   "source": [
    "## parameters ##\n",
    "maxdiffs = 5 #10\n",
    "minmergelen = 1\n",
    "maxmergelen = 600\n",
    "minseqlength = 50\n",
    "maxee_rate = 0.5/100 #%\n",
    "minsize = 2\n",
    "thr = 0.97\n",
    "threadsnum = 4\n",
    "\n",
    "## file names ##\n",
    "appended_file_name = 'appended.fastq'\n",
    "filtered_file_name = 'filtered.fasta'\n",
    "unique_file_name = 'unique.fasta'\n",
    "sorted_file_name = 'sorted.fasta'\n",
    "nonchimera_file_name = 'nonchimera.fasta'\n",
    "centroids_file_name = 'centroids.fasta'\n",
    "denovootu_file_name = header[ref]+'denovootu.txt'\n",
    "hits_file_name = header[ref]+'hits.txt'\n",
    "refotuname_file_name = header[ref]+'otu_name.txt'\n",
    "refotuID_file_name = header[ref]+'otu.txt'"
   ]
  },
  {
   "cell_type": "code",
   "execution_count": 52,
   "metadata": {},
   "outputs": [
    {
     "name": "stdout",
     "output_type": "stream",
     "text": [
      "All FASTQ files exist. Continue computation.\n"
     ]
    }
   ],
   "source": [
    "## file integrity check ##\n",
    "if is_filecheck=='yes':\n",
    "    if is_pairend=='yes':\n",
    "        fwds = set(glob.glob('^*_1.fastq.gz'))\n",
    "        revs = set(glob.glob('^*_2.fastq.gz'))\n",
    "        ffiles = rfiles = set()\n",
    "        config_file = os.path.join(input_dir,config_file_name)\n",
    "        fr = open(config_file,'r').readlines()\n",
    "        for line in fr:\n",
    "            line = line.replace('\\n','')\n",
    "            tmp = line.split(',')\n",
    "            sID = tmp[0]\n",
    "            ffiles.add(tmp[1])\n",
    "            rfiles.add(tmp[2])\n",
    "        fwddiff = list(fwds-ffiles)\n",
    "        revdiff = list(revs-rfiles)\n",
    "        if len(fwddiff)>0 or len(revdiff)>0:\n",
    "            msg = 'Some FASTQ files are lacking. Quit computation.'\n",
    "            print( msg )\n",
    "            quit()\n",
    "        else:\n",
    "            msg = 'All FASTQ files exist. Continue computation.'\n",
    "            print( msg )\n",
    "    else:\n",
    "        fwds = set(glob.glob('*.fastq.gz'))\n",
    "        ffiles = set()\n",
    "        config_file = os.path.join(input_dir,config_file_name)\n",
    "        fr = open(config_file,'r').readlines()\n",
    "        for line in fr:\n",
    "            line = line.replace('\\n','')\n",
    "            tmp = line.split(',')\n",
    "            sID = tmp[0]\n",
    "            ffiles.add(tmp[1])\n",
    "        fwddiff = list(fwds-ffiles)\n",
    "        if len(fwddiff)>0:\n",
    "            msg = 'Some FASTQ files are lacking. Quit computation.'\n",
    "            print( msg )\n",
    "            quit()\n",
    "        else:\n",
    "            msg = 'All FASTQ files exist. Continue computation.'\n",
    "            print( msg )"
   ]
  },
  {
   "cell_type": "code",
   "execution_count": 53,
   "metadata": {},
   "outputs": [],
   "source": [
    "## Quality Check by fastqc ##\n",
    "if is_fastqc=='yes':\n",
    "    fastqc_dir = os.path.join(input_dir,'fastqc')\n",
    "    if not os.path.exists(fastqc_dir):\n",
    "        os.mkdir(fastqc_dir)\n",
    "    if is_pairend=='yes':\n",
    "        config_file = os.path.join(input_dir,config_file_name)\n",
    "        fr = open(config_file,'r').readlines()\n",
    "        for line in fr:\n",
    "            line = line.replace('\\n','')\n",
    "            tmp = line.split(',')\n",
    "            sID = tmp[0]\n",
    "            fwdfile = os.path.join(input_dir,tmp[1])\n",
    "            revfile = os.path.join(input_dir,tmp[2])\n",
    "            cmd = '%s %s' % (fastqc,fwdfile)\n",
    "            os.system(cmd)\n",
    "            cmd = '%s %s' % (fastqc,revfile)\n",
    "            os.system(cmd)\n",
    "    else:\n",
    "        config_file = os.path.join(input_dir,config_file_name)\n",
    "        fr = open(config_file,'r').readlines()\n",
    "        for line in fr:\n",
    "            line = line.replace('\\n','')\n",
    "            tmp = line.split(',')\n",
    "            sID = tmp[0]\n",
    "            fn = tmp[1]\n",
    "            cmd = '%s %s' % (fastqc,fn)\n",
    "            os.system(cmd)\n",
    "    qcfiles = glob.glob('*_fastqc*')\n",
    "    for qcfile in qcfiles:\n",
    "        before = os.path.join(input_dir,qcfile)\n",
    "        after = os.path.join(fastqc_dir,qcfile)\n",
    "        shutil.move(before,after)"
   ]
  },
  {
   "cell_type": "code",
   "execution_count": 54,
   "metadata": {
    "scrolled": false
   },
   "outputs": [],
   "source": [
    "## merge pair-end files ##\n",
    "if is_pairend=='yes':\n",
    "    input_fns = []\n",
    "    config_file = os.path.join(input_dir,config_file_name)\n",
    "    fr = open(config_file,'r').readlines()\n",
    "    for line in fr:\n",
    "        line = line.replace('\\n','')\n",
    "        tmp = line.split(',')\n",
    "        sID = tmp[0]\n",
    "        fwdfile = os.path.join(input_dir,tmp[1])\n",
    "        revfile = os.path.join(input_dir,tmp[2])\n",
    "        paired_fwdfile = os.path.join(input_dir,'paired_'+tmp[1])\n",
    "        paired_revfile = os.path.join(input_dir,'paired_'+tmp[2])\n",
    "        unpaired_fwdfile = os.path.join(input_dir,'unpaired_'+tmp[1])\n",
    "        unpaired_revfile = os.path.join(input_dir,'unpaired_'+tmp[2])\n",
    "        tmpfile = os.path.join(output_dir,sID+'_merged.fasta')\n",
    "        input_fns.append(tmpfile)\n",
    "        ## trimming by Trimmomatic ##\n",
    "        if is_trim=='yes':\n",
    "            cmd = 'java -jar %s PE %s %s %s %s %s %s SLIDINGWINDOW:4:15 MINLEN:%d' % (Trimmomatic,fwdfile,revfile,paired_fwdfile,unpaired_fwdfile,paired_revfile,unpaired_revfile,minseqlength)\n",
    "            os.system(cmd)\n",
    "            cmd = '%s -fastq_mergepairs %s --reverse %s -fastq_maxdiffs %s -fastq_minmergelen %s -fastq_maxmergelen %s -fastqout %s' % (vsearch,paired_fwdfile,paired_revfile,str(maxdiffs),str(minmergelen),str(maxmergelen),tmpfile)\n",
    "            os.system(cmd)\n",
    "        else:\n",
    "            cmd = '%s -fastq_mergepairs %s --reverse %s -fastq_maxdiffs %s -fastq_minmergelen %s -fastq_maxmergelen %s -fastqout %s' % (vsearch,fwdfile,revfile,str(maxdiffs),str(minmergelen),str(maxmergelen),tmpfile)\n",
    "            os.system(cmd)\n",
    "else:\n",
    "    input_fns = []\n",
    "    config_file = os.path.join(input_dir,config_file_name)\n",
    "    fr = open(config_file,'r').readlines()\n",
    "    for line in fr:\n",
    "        line = line.replace('\\n','')\n",
    "        tmp = line.split(',')\n",
    "        sID = tmp[0]\n",
    "        fn = tmp[1]\n",
    "        #input_file = os.path.join(output_dir,sID+'.fastq.gz')\n",
    "        input_file = os.path.join(output_dir,fn)\n",
    "        ## trimming by Trimmomatic ##\n",
    "        if is_trim=='yes':\n",
    "            tmpfile = os.path.join(output_dir,sID+'_trimmed.fastq')\n",
    "            cmd = 'java -jar %s SE %s %s SLIDINGWINDOW:4:15 MINLEN:%d' % (Trimmomatic,input_file,tmpfile,minseqlength)\n",
    "            os.system(cmd)\n",
    "            input_fns.append(tmpfile)\n",
    "        else:\n",
    "            cmd = 'gunzip %s' % (input_file)\n",
    "            #os.system(cmd)\n",
    "            #input_fn = input_file.replace('.gz','')\n",
    "            #input_fns.append(input_fn)\n",
    "\n",
    "## append file ##\n",
    "appended_file = os.path.join(output_dir,appended_file_name)\n",
    "if is_append=='yes':\n",
    "    if is_pairend=='yes':\n",
    "        ## append merged-pair fastq files ##\n",
    "        with open(appended_file,'w') as output_handle:\n",
    "            for input_fn in input_fns:\n",
    "                append(input_fn,output_handle,'fastq','.')\n",
    "        output_handle.close()\n",
    "        ## remove tmporary files ##\n",
    "        tmpfastqfiles = glob.glob('*_merged.fastq')\n",
    "        for item in tmpfastqfiles:\n",
    "            os.remove(item)\n",
    "    else:\n",
    "        ## append fastq files ##\n",
    "        with open(appended_file,'w') as output_handle:\n",
    "            for input_fn in input_fns:\n",
    "                append(input_fn,output_handle,'fastq','.')\n",
    "        output_handle.close()\n",
    "        if is_trim!='yes':\n",
    "            for input_fn in input_fns:\n",
    "                cmd = 'gzip -f %s' % (input_fn)\n",
    "                os.system(cmd)\n",
    "else:\n",
    "    msg = 'Skip appending.'\n",
    "    print( msg )"
   ]
  },
  {
   "cell_type": "code",
   "execution_count": 55,
   "metadata": {},
   "outputs": [],
   "source": [
    "## filtering ##\n",
    "filtered_file = os.path.join(output_dir,filtered_file_name)\n",
    "if is_qualfilter=='yes':\n",
    "    cmd = '%s --fastq_filter %s --fastaout %s --fastq_maxee_rate %s' % (vsearch,appended_file,filtered_file,str(maxee_rate))\n",
    "    os.system(cmd)\n",
    "else:\n",
    "    msg = 'Skip filtering.'\n",
    "    print( msg )"
   ]
  },
  {
   "cell_type": "code",
   "execution_count": 56,
   "metadata": {},
   "outputs": [],
   "source": [
    "## get unique sequences ##\n",
    "unique_file = os.path.join(output_dir,unique_file_name)\n",
    "if is_unique=='yes':\n",
    "    cmd = '%s --derep_fulllength %s --output %s --sizeout --minseqlength %s' % (vsearch,filtered_file,unique_file,str(minseqlength))\n",
    "    os.system(cmd)\n",
    "else:\n",
    "    msg = 'Skip unifying.'\n",
    "    print( msg )"
   ]
  },
  {
   "cell_type": "code",
   "execution_count": 57,
   "metadata": {},
   "outputs": [
    {
     "name": "stdout",
     "output_type": "stream",
     "text": [
      "/home/petadimensionlab/miniconda3/pkgs/vsearch-2.7.0-1/bin/vsearch --sortbysize /home/petadimensionlab/Desktop/PRJNA000001/unique.fasta --output /home/petadimensionlab/Desktop/PRJNA000001/sorted.fasta --minsize 2\n"
     ]
    }
   ],
   "source": [
    "## sorted sequences ##\n",
    "sorted_file = os.path.join(output_dir,sorted_file_name)\n",
    "if is_sort=='yes':\n",
    "    cmd = '%s --sortbysize %s --output %s --minsize %s' % (vsearch,unique_file,sorted_file,str(minsize))\n",
    "    os.system(cmd)\n",
    "    print(cmd)\n",
    "else:\n",
    "    msg = 'Skip sorting.'\n",
    "    print( msg )"
   ]
  },
  {
   "cell_type": "code",
   "execution_count": 58,
   "metadata": {
    "scrolled": true
   },
   "outputs": [
    {
     "name": "stdout",
     "output_type": "stream",
     "text": [
      "/home/petadimensionlab/miniconda3/bin/mothur \"#chimera.uchime(fasta=/home/petadimensionlab/Desktop/PRJNA000001/sorted.fasta,reference=/home/petadimensionlab/ws/ref/chimeras/rRNA16S.gold.NAST_ALIGNED.fasta,processors=4); remove.seqs(fasta=current,accnos=current);\"\n",
      "mv /home/petadimensionlab/Desktop/PRJNA000001/sorted.pick.fasta /home/petadimensionlab/Desktop/PRJNA000001/nonchimera.fasta\n"
     ]
    }
   ],
   "source": [
    "## chimera detection ##\n",
    "nonchimera_file = os.path.join(output_dir,nonchimera_file_name)\n",
    "if is_chimeracheck=='yes':\n",
    "    if is_uchime_ref=='yes':\n",
    "        cmd = '%s \\\"#chimera.uchime(fasta=%s,reference=%s,processors=%s); remove.seqs(fasta=current,accnos=current);\\\"' % (mothur,sorted_file,chimera_ref,str(threadsnum))\n",
    "        print(cmd)\n",
    "        os.system(cmd)\n",
    "        tmp_name = sorted_file_name.replace('.fasta','')\n",
    "        tmp_name = tmp_name+'.pick.fasta'\n",
    "        tmpfile = os.path.join(output_dir,tmp_name)\n",
    "        cmd = 'mv %s %s' % (tmpfile,nonchimera_file)\n",
    "        os.system(cmd)\n",
    "        print(cmd)\n",
    "    else:\n",
    "        cmd = '%s --uchime_denovo %s --nonchimeras %s' % (vsearch,sorted_file,nonchimera_file)\n",
    "        os.system(cmd)\n",
    "else:\n",
    "    msg = 'Skip chimera check.'\n",
    "    print( msg )"
   ]
  },
  {
   "cell_type": "code",
   "execution_count": 59,
   "metadata": {},
   "outputs": [],
   "source": [
    "## cluster ##\n",
    "centroids_file = os.path.join(output_dir,centroids_file_name)\n",
    "if is_cluster=='yes':\n",
    "    #cmd = '%s --cluster_fast %s --id %s --centroids %s' % (vsearch,sorted_file,str(thr),centroids_file)\n",
    "    cmd = '%s --cluster_smallmem %s --id %s --consout %s --usersort' % (vsearch,nonchimera_file,str(thr),centroids_file)\n",
    "    os.system(cmd)\n",
    "else:\n",
    "    msg = 'Skip clustering.'\n",
    "    print( msg )"
   ]
  },
  {
   "cell_type": "code",
   "execution_count": 60,
   "metadata": {},
   "outputs": [],
   "source": [
    "## Assign taxonomy ##\n",
    "hits_file = os.path.join(output_dir,hits_file_name)\n",
    "if is_taxonomy=='yes':\n",
    "    cmd = '%s --usearch_global %s --db %s --strand both --id %s --threads %s --userfields \\\"query+target+id\\\" --userout %s' % (vsearch,centroids_file,fastalist[ref],str(thr),str(threadsnum),hits_file)\n",
    "    os.system(cmd)\n",
    "else:\n",
    "    msg = 'Skip taxonomy assignment.'\n",
    "    print( msg )"
   ]
  },
  {
   "cell_type": "code",
   "execution_count": 61,
   "metadata": {},
   "outputs": [],
   "source": [
    "## de novo picking ##\n",
    "denovootu_file = os.path.join(output_dir,denovootu_file_name)\n",
    "if is_denovopicking=='yes':\n",
    "    cmd = '%s --usearch_global %s --db %s --strand both --id %s --threads %s --otutabout %s' % (vsearch,filtered_file,centroids_file,str(thr),str(threadsnum),denovootu_file)\n",
    "    os.system(cmd)\n",
    "else:\n",
    "    msg = 'Skip denovo picking.'\n",
    "    print( msg )"
   ]
  },
  {
   "cell_type": "code",
   "execution_count": 62,
   "metadata": {
    "scrolled": false
   },
   "outputs": [],
   "source": [
    "## Mapping to GreenGene database ##\n",
    "if is_mapping=='yes':\n",
    "    refid2refname = {}\n",
    "    frref = open(taxlist[ref],'r').readlines()\n",
    "    for line in frref:\n",
    "        line = line.replace('\\n','')\n",
    "        tmp = line.split('\\t')\n",
    "        refid2refname[tmp[0]] = tmp[1]\n",
    "    ## make a mapping from \"user defined sequence ID\" to \"greengene ID\"\n",
    "    myid2refid = {}\n",
    "    myid2refname = {}\n",
    "    frh = open(hits_file,'r').readlines()\n",
    "    for line in frh:\n",
    "        tmp = line.split('\\t') # refID: tmp[1]\n",
    "        refid = tmp[1]\n",
    "        refname = refid2refname[refid]\n",
    "        myids = tmp[0].split(';') # myID : tmp[0]\n",
    "        myid2refid[myids[0]] = refid\n",
    "        myid2refname[myids[0]] = refname\n",
    "\n",
    "    frd = open(denovootu_file,'r').readlines()\n",
    "    header = frd[0] # restore header information\n",
    "    frd.pop(0) # remove the header line\n",
    "    ## taxonomy name version ##\n",
    "    refotu_name_file = os.path.join(output_dir,refotuname_file_name)\n",
    "    fw = open(refotu_name_file,'w')\n",
    "    fw.write(header)\n",
    "    for line in frd:\n",
    "        tmp = line.split('\\t') # tmp[0]: myID\n",
    "        try:\n",
    "            tmp[0] = myid2refname[tmp[0]]\n",
    "            fw.write('\\t'.join(tmp))\n",
    "        except:\n",
    "            continue\n",
    "    fw.close()\n",
    "    ## taxonomy ID version ##\n",
    "    refotu_ID_file = os.path.join(output_dir,refotuID_file_name)\n",
    "    fw = open(refotu_ID_file,'w')\n",
    "    fw.write(header)\n",
    "    for line in frd:\n",
    "        tmp = line.split('\\t') # tmp[0]: myID\n",
    "        try:\n",
    "            tmp[0] = myid2refid[tmp[0]]\n",
    "            fw.write('\\t'.join(tmp))\n",
    "        except:\n",
    "            continue\n",
    "    fw.close()\n",
    "else:\n",
    "    msg = 'Skip taxonomy mapping.'\n",
    "    print( msg )\n"
   ]
  },
  {
   "cell_type": "code",
   "execution_count": 63,
   "metadata": {},
   "outputs": [],
   "source": [
    "## delete intermediate files ##\n",
    "if is_deletefiles=='yes':\n",
    "    os.chdir(input_dir)\n",
    "    mothurlog_file = glob.glob('mothur*logfile')\n",
    "    mothurpick_file = glob.glob('sorted.pick.fasta')\n",
    "    paired_files = glob.glob('paired*.fastq.gz')\n",
    "    unpaired_files = glob.glob('unpaired*.fastq.gz')\n",
    "    merged_files = glob.glob('*_merged.fasta')\n",
    "    trimmed_files = glob.glob('*_trimmed.fasta')\n",
    "    uchime_files = glob.glob('*uchime*')\n",
    "    rm_files = ['appended.fastq','unique.fasta','nonchimera.fasta']+mothurlog_file+uchime_files+mothurpick_file\n",
    "    if is_pairend=='yes':\n",
    "        rm_files = rm_files+paired_files+unpaired_files+merged_files\n",
    "    else:\n",
    "        rm_files = rm_files+trimmed_files\n",
    "    for file in rm_files:\n",
    "        cmd = 'rm %s' % (file)\n",
    "        os.system(cmd)"
   ]
  },
  {
   "cell_type": "code",
   "execution_count": null,
   "metadata": {},
   "outputs": [],
   "source": []
  },
  {
   "cell_type": "code",
   "execution_count": null,
   "metadata": {
    "collapsed": true
   },
   "outputs": [],
   "source": []
  }
 ],
 "metadata": {
  "kernelspec": {
   "display_name": "Python 3",
   "language": "python",
   "name": "python3"
  },
  "language_info": {
   "codemirror_mode": {
    "name": "ipython",
    "version": 3
   },
   "file_extension": ".py",
   "mimetype": "text/x-python",
   "name": "python",
   "nbconvert_exporter": "python",
   "pygments_lexer": "ipython3",
   "version": "3.6.2"
  }
 },
 "nbformat": 4,
 "nbformat_minor": 2
}
