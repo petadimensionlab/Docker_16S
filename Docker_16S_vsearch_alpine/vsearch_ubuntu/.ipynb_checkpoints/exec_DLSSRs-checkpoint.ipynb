{
 "cells": [
  {
   "cell_type": "code",
   "execution_count": 43,
   "metadata": {},
   "outputs": [],
   "source": [
    "# http://blog.amelieff.jp/?eid=231191\n",
    "import os, shutil, glob"
   ]
  },
  {
   "cell_type": "code",
   "execution_count": 44,
   "metadata": {},
   "outputs": [],
   "source": [
    "cdir = os.getcwd()\n",
    "data_dir = '/home/petadimensionlab/Desktop/PRJNA320132'\n",
    "#prefetch_dir = '/Users/snakaoka/ws/apps/sratoolkit/bin/'\n",
    "prefetch_dir = '/home/petadimensionlab/ws/apps/pfastq_dump/bin/'\n",
    "DL_dir = '/home/petadimensionlab/ncbi/public/sra/'"
   ]
  },
  {
   "cell_type": "code",
   "execution_count": 45,
   "metadata": {
    "scrolled": true
   },
   "outputs": [
    {
     "name": "stdout",
     "output_type": "stream",
     "text": [
      "/home/petadimensionlab/ws/apps/pfastq_dump/bin/./prefetch --option-file /home/petadimensionlab/Desktop/PRJNA320132/SRR_Acc_List.txt\n"
     ]
    }
   ],
   "source": [
    "## convert sra to fastq ##\n",
    "os.chdir(data_dir)\n",
    "cmd = prefetch_dir+'./prefetch --option-file '+os.path.join(data_dir,'SRR_Acc_List.txt')\n",
    "os.system(cmd)\n",
    "os.chdir(cdir)"
   ]
  },
  {
   "cell_type": "code",
   "execution_count": 46,
   "metadata": {},
   "outputs": [],
   "source": [
    "## move all data to an assigned folder ##\n",
    "os.chdir(DL_dir)\n",
    "files = glob.glob('*.sra')\n",
    "for f in files:\n",
    "    tmp = os.path.join(data_dir,f)\n",
    "    shutil.move(f,tmp)"
   ]
  },
  {
   "cell_type": "code",
   "execution_count": null,
   "metadata": {
    "collapsed": true
   },
   "outputs": [],
   "source": []
  },
  {
   "cell_type": "code",
   "execution_count": null,
   "metadata": {
    "collapsed": true
   },
   "outputs": [],
   "source": []
  },
  {
   "cell_type": "code",
   "execution_count": null,
   "metadata": {
    "collapsed": true
   },
   "outputs": [],
   "source": []
  }
 ],
 "metadata": {
  "kernelspec": {
   "display_name": "Python 3",
   "language": "python",
   "name": "python3"
  },
  "language_info": {
   "codemirror_mode": {
    "name": "ipython",
    "version": 3
   },
   "file_extension": ".py",
   "mimetype": "text/x-python",
   "name": "python",
   "nbconvert_exporter": "python",
   "pygments_lexer": "ipython3",
   "version": "3.6.2"
  }
 },
 "nbformat": 4,
 "nbformat_minor": 2
}
