{
 "cells": [
  {
   "cell_type": "code",
   "execution_count": 1,
   "metadata": {},
   "outputs": [],
   "source": [
    " # required : sra-stat, fastq-dump #\n",
    "import os, shutil, glob"
   ]
  },
  {
   "cell_type": "code",
   "execution_count": 2,
   "metadata": {},
   "outputs": [],
   "source": [
    "cdir = os.getcwd()\n",
    "data_dir = '/home/petadimensionlab/Desktop/PRJNA320132'\n",
    "pfastqdump_dir = '/home/petadimensionlab/ws/apps/pfastq_dump/bin/'"
   ]
  },
  {
   "cell_type": "code",
   "execution_count": 3,
   "metadata": {},
   "outputs": [],
   "source": [
    "is_pairend = 'no'\n",
    "is_gzip = 'yes'"
   ]
  },
  {
   "cell_type": "code",
   "execution_count": 4,
   "metadata": {},
   "outputs": [],
   "source": [
    "thread_num = 8"
   ]
  },
  {
   "cell_type": "code",
   "execution_count": 5,
   "metadata": {},
   "outputs": [],
   "source": [
    "## fastq dump ##\n",
    "os.chdir(data_dir)\n",
    "files = glob.glob('*.sra')\n",
    "for f in files:\n",
    "    if is_pairend=='yes':\n",
    "        #cmd = 'export PATH=$PATH:'+pfastqdump_dir+' && '+pfastqdump_dir+'./pfastq-dump -t %d -split-3 -O %s %s' % (thread_num,data_dir,f)\n",
    "        cmd = 'export PATH=$PATH:'+pfastqdump_dir+' && '+pfastqdump_dir+'./fastq-dump -split-files -O %s %s' % (data_dir,f)\n",
    "        os.system(cmd)\n",
    "    else:\n",
    "        #cmd = 'export PATH=$PATH:'+pfastqdump_dir+' && '+pfastqdump_dir+'./pfastq-dump -t %d -O %s %s' % (thread_num,data_dir,f)\n",
    "        cmd = 'export PATH=$PATH:'+pfastqdump_dir+' && '+pfastqdump_dir+'./fastq-dump -O %s %s' % (data_dir,f)\n",
    "        os.system(cmd)"
   ]
  },
  {
   "cell_type": "code",
   "execution_count": 6,
   "metadata": {},
   "outputs": [],
   "source": [
    "## gzip ##\n",
    "if is_gzip=='yes':\n",
    "    os.chdir(data_dir)\n",
    "    files = glob.glob('*.fastq')\n",
    "    for f in files:\n",
    "        cmd = 'gzip %s' % (f)\n",
    "        os.system(cmd)"
   ]
  },
  {
   "cell_type": "code",
   "execution_count": null,
   "metadata": {
    "collapsed": true
   },
   "outputs": [],
   "source": []
  }
 ],
 "metadata": {
  "kernelspec": {
   "display_name": "Python 3",
   "language": "python",
   "name": "python3"
  },
  "language_info": {
   "codemirror_mode": {
    "name": "ipython",
    "version": 3
   },
   "file_extension": ".py",
   "mimetype": "text/x-python",
   "name": "python",
   "nbconvert_exporter": "python",
   "pygments_lexer": "ipython3",
   "version": "3.6.2"
  }
 },
 "nbformat": 4,
 "nbformat_minor": 2
}
